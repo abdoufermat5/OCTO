{
 "cells": [
  {
   "cell_type": "code",
   "execution_count": 23,
   "outputs": [],
   "source": [
    "import tweepy\n",
    "import pandas as pd\n",
    "from dotenv import load_dotenv\n",
    "load_dotenv(dotenv_path='.env')\n",
    "import os\n",
    "\n",
    "api_key =\"UqocEuAc0hJ6HpHs4h6mGAZvC\" #os.environ['API_KEY']\n",
    "api_secret_key =\"Nw9fCixwFZpX0tbCob8CDXuT63F2i5Bhac7jDDt1vBtLdsqoGk\" #os.environ['API_SECRET_KEY']\n",
    "access_token = \"899042534370009088-bYtGpg2FKymMuyUWGWtoAOpoXxaHagw\" #os.environ['ACCESS_TOKEN']\n",
    "access_token_secret = \"5JPjKJSuzW2xPbCWuBo3Wq1kIyl4IeGwnwQe4j8ThkYbN\" #os.environ['ACCESS_TOKEN_SECRET']\n",
    "\n",
    "# authorize the API Key\n",
    "authentication = tweepy.OAuthHandler(api_key, api_secret_key)\n",
    "# authorization to user's access token and access token secret\n",
    "authentication.set_access_token(access_token, access_token_secret)\n",
    "api = tweepy.API(authentication)\n",
    "\n",
    "search_query = [\"sncf\",\"ratp\"]\n",
    "no_of_tweets = 10000\n",
    "\n",
    "# The number of tweets we want to retrieve from the search\n",
    "tweets = api.search_tweets(q=search_query, count=no_of_tweets)\n",
    "\n",
    "# Pulling Some attributes from the tweet\n",
    "attributes_container = [[tweet.user.name, tweet.favorite_count, tweet.text] for\n",
    "                                tweet in tweets]\n",
    "\n",
    "# Creation of column list to rename the columns in the dataframe\n",
    "columns = [\"User\", \"Number of Likes\", \"Tweet\"]\n",
    "\n",
    "# Creation of Dataframe\n",
    "tweets_df = pd.DataFrame(attributes_container, columns=columns)"
   ],
   "metadata": {
    "collapsed": false,
    "pycharm": {
     "name": "#%%\n"
    }
   }
  },
  {
   "cell_type": "code",
   "execution_count": 26,
   "outputs": [
    {
     "data": {
      "text/plain": "                                           User  Number of Likes  \\\n0                                          Tata                0   \n1                                       Akouvi🪐                0   \n2          Romain Michelon #StandWithUkraine 🇺🇦                0   \n3   Valerie Legouhy #sealover 🌊 #apnea #koicarp                0   \n4                                      Neuville                0   \n..                                          ...              ...   \n95                                   Ugo Lebron                0   \n96                                 zolvert 🇫🇷🇪🇺                0   \n97                                   LaMiaVita💛                0   \n98                              Robot De l'Info                0   \n99                   Katia Auger 🧹🔻🐢💧🥀🌄🇲🇫🌕💞☘🎶🍾🎉                0   \n\n                                                Tweet  \n0   RT @Tehemparis: Réforme des retraites taux de ...  \n1     RT @_555MJK: La RATP et SNCF prenez exemple svp  \n2   RT @jlmalys: 4. La seule mesure spécifique aux...  \n3   RT @Plusdetrains: ⚠️ Prochains jours de grève\\...  \n4   @BFMTV Ce serait un excellent signe pour les d...  \n..                                                ...  \n95  RT @Tehemparis: Réforme des retraites taux de ...  \n96  RT @Tehemparis: Réforme des retraites taux de ...  \n97  RT @Tehemparis: Réforme des retraites taux de ...  \n98  Grève : les perturbations attendues pour les v...  \n99  RT @ArthurNicola_: - Le public (SNCF/RATP/fonc...  \n\n[100 rows x 3 columns]",
      "text/html": "<div>\n<style scoped>\n    .dataframe tbody tr th:only-of-type {\n        vertical-align: middle;\n    }\n\n    .dataframe tbody tr th {\n        vertical-align: top;\n    }\n\n    .dataframe thead th {\n        text-align: right;\n    }\n</style>\n<table border=\"1\" class=\"dataframe\">\n  <thead>\n    <tr style=\"text-align: right;\">\n      <th></th>\n      <th>User</th>\n      <th>Number of Likes</th>\n      <th>Tweet</th>\n    </tr>\n  </thead>\n  <tbody>\n    <tr>\n      <th>0</th>\n      <td>Tata</td>\n      <td>0</td>\n      <td>RT @Tehemparis: Réforme des retraites taux de ...</td>\n    </tr>\n    <tr>\n      <th>1</th>\n      <td>Akouvi🪐</td>\n      <td>0</td>\n      <td>RT @_555MJK: La RATP et SNCF prenez exemple svp</td>\n    </tr>\n    <tr>\n      <th>2</th>\n      <td>Romain Michelon #StandWithUkraine 🇺🇦</td>\n      <td>0</td>\n      <td>RT @jlmalys: 4. La seule mesure spécifique aux...</td>\n    </tr>\n    <tr>\n      <th>3</th>\n      <td>Valerie Legouhy #sealover 🌊 #apnea #koicarp</td>\n      <td>0</td>\n      <td>RT @Plusdetrains: ⚠️ Prochains jours de grève\\...</td>\n    </tr>\n    <tr>\n      <th>4</th>\n      <td>Neuville</td>\n      <td>0</td>\n      <td>@BFMTV Ce serait un excellent signe pour les d...</td>\n    </tr>\n    <tr>\n      <th>...</th>\n      <td>...</td>\n      <td>...</td>\n      <td>...</td>\n    </tr>\n    <tr>\n      <th>95</th>\n      <td>Ugo Lebron</td>\n      <td>0</td>\n      <td>RT @Tehemparis: Réforme des retraites taux de ...</td>\n    </tr>\n    <tr>\n      <th>96</th>\n      <td>zolvert 🇫🇷🇪🇺</td>\n      <td>0</td>\n      <td>RT @Tehemparis: Réforme des retraites taux de ...</td>\n    </tr>\n    <tr>\n      <th>97</th>\n      <td>LaMiaVita💛</td>\n      <td>0</td>\n      <td>RT @Tehemparis: Réforme des retraites taux de ...</td>\n    </tr>\n    <tr>\n      <th>98</th>\n      <td>Robot De l'Info</td>\n      <td>0</td>\n      <td>Grève : les perturbations attendues pour les v...</td>\n    </tr>\n    <tr>\n      <th>99</th>\n      <td>Katia Auger 🧹🔻🐢💧🥀🌄🇲🇫🌕💞☘🎶🍾🎉</td>\n      <td>0</td>\n      <td>RT @ArthurNicola_: - Le public (SNCF/RATP/fonc...</td>\n    </tr>\n  </tbody>\n</table>\n<p>100 rows × 3 columns</p>\n</div>"
     },
     "execution_count": 26,
     "metadata": {},
     "output_type": "execute_result"
    }
   ],
   "source": [
    "tweets_df"
   ],
   "metadata": {
    "collapsed": false,
    "pycharm": {
     "name": "#%%\n"
    }
   }
  },
  {
   "cell_type": "code",
   "execution_count": null,
   "outputs": [],
   "source": [],
   "metadata": {
    "collapsed": false,
    "pycharm": {
     "name": "#%%\n"
    }
   }
  },
  {
   "cell_type": "code",
   "execution_count": null,
   "outputs": [],
   "source": [],
   "metadata": {
    "collapsed": false
   }
  }
 ],
 "metadata": {
  "kernelspec": {
   "display_name": "Python 3",
   "language": "python",
   "name": "python3"
  },
  "language_info": {
   "codemirror_mode": {
    "name": "ipython",
    "version": 2
   },
   "file_extension": ".py",
   "mimetype": "text/x-python",
   "name": "python",
   "nbconvert_exporter": "python",
   "pygments_lexer": "ipython2",
   "version": "2.7.6"
  }
 },
 "nbformat": 4,
 "nbformat_minor": 0
}