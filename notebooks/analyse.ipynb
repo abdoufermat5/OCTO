{
 "cells": [
  {
   "cell_type": "code",
   "execution_count": null,
   "outputs": [],
   "source": [
    "import tweepy\n",
    "import pandas as pd\n",
    "from dotenv import load_dotenv\n",
    "load_dotenv(dotenv_path='.env')\n",
    "import os\n",
    "\n",
    "api_key = os.environ['API_KEY']\n",
    "api_secret_key = os.environ['API_SECRET_KEY']\n",
    "access_token = os.environ['ACCESS_TOKEN']\n",
    "access_token_secret = os.environ['ACCESS_TOKEN_SECRET']\n",
    "\n",
    "# authorize the API Key\n",
    "authentication = tweepy.OAuthHandler(api_key, api_secret_key)\n",
    "# authorization to user's access token and access token secret\n",
    "authentication.set_access_token(access_token, access_token_secret)\n",
    "api = tweepy.API(authentication)\n",
    "\n",
    "search_query = [\"sncf\",\"ratp\"]\n",
    "no_of_tweets = 10000\n",
    "\n",
    "# The number of tweets we want to retrieve from the search\n",
    "tweets = api.search_tweets(q=search_query, count=no_of_tweets)\n",
    "\n",
    "# Pulling Some attributes from the tweet\n",
    "attributes_container = [[tweet.user.name, tweet.favorite_count, tweet.text, tweet.] for\n",
    "                                tweet in tweets]\n",
    "\n",
    "# Creation of column list to rename the columns in the dataframe\n",
    "columns = [\"User\", \"Number of Likes\", \"Tweet\"]\n",
    "\n",
    "# Creation of Dataframe\n",
    "tweets_df = pd.DataFrame(attributes_container, columns=columns)"
   ],
   "metadata": {
    "collapsed": false,
    "pycharm": {
     "name": "#%%\n"
    }
   }
  },
  {
   "cell_type": "code",
   "execution_count": null,
   "outputs": [],
   "source": [],
   "metadata": {
    "collapsed": false
   }
  }
 ],
 "metadata": {
  "kernelspec": {
   "display_name": "Python 3",
   "language": "python",
   "name": "python3"
  },
  "language_info": {
   "codemirror_mode": {
    "name": "ipython",
    "version": 2
   },
   "file_extension": ".py",
   "mimetype": "text/x-python",
   "name": "python",
   "nbconvert_exporter": "python",
   "pygments_lexer": "ipython2",
   "version": "2.7.6"
  }
 },
 "nbformat": 4,
 "nbformat_minor": 0
}
