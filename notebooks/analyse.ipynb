{
 "cells": [
  {
   "cell_type": "code",
   "execution_count": null,
   "metadata": {
    "collapsed": true
   },
   "outputs": [],
   "source": [
    "def preprocessReview(review):\n",
    "    # expansion des contractions\n",
    "    expanded_r = expand_contractions(review)\n",
    "    # remplacement des emojis par leur sens textuel\n",
    "    emoji_r = convert_emojis_and_emoticons_to_word(expanded_r)\n",
    "    # tokenization\n",
    "    tokenized_r = tokenization(emoji_r)\n",
    "    # suppression des mots d'arret\n",
    "    removed_stop_w_r = remove_stop_words(tokenized_r)\n",
    "    # lemmatization du texte\n",
    "    lemmatized_r = lemmatize_text(removed_stop_w_r)\n",
    "    return lemmatized_r"
   ]
  }
 ],
 "metadata": {
  "kernelspec": {
   "display_name": "Python 3",
   "language": "python",
   "name": "python3"
  },
  "language_info": {
   "codemirror_mode": {
    "name": "ipython",
    "version": 2
   },
   "file_extension": ".py",
   "mimetype": "text/x-python",
   "name": "python",
   "nbconvert_exporter": "python",
   "pygments_lexer": "ipython2",
   "version": "2.7.6"
  }
 },
 "nbformat": 4,
 "nbformat_minor": 0
}
