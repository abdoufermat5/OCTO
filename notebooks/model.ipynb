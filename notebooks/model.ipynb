{
 "cells": [
  {
   "cell_type": "code",
   "execution_count": 1,
   "metadata": {
    "collapsed": true
   },
   "outputs": [
    {
     "name": "stdout",
     "output_type": "stream",
     "text": [
      "[[{'label': '1 star', 'score': 0.09579841792583466}, {'label': '2 stars', 'score': 0.20221105217933655}, {'label': '3 stars', 'score': 0.3468766510486603}, {'label': '4 stars', 'score': 0.22631977498531342}, {'label': '5 stars', 'score': 0.12879416346549988}]]\n"
     ]
    },
    {
     "name": "stderr",
     "output_type": "stream",
     "text": [
      "C:\\Users\\Acer Nitro 5\\anaconda3\\envs\\OCTO\\lib\\site-packages\\transformers\\pipelines\\text_classification.py:104: UserWarning: `return_all_scores` is now deprecated,  if want a similar funcionality use `top_k=None` instead of `return_all_scores=True` or `top_k=1` instead of `return_all_scores=False`.\n",
      "  warnings.warn(\n"
     ]
    }
   ],
   "source": [
    "from preprocess import preprocessTweet\n",
    "from predict import predict\n",
    "\n",
    "analyzer = pipeline(\n",
    "    task='text-classification',\n",
    "    model=\"cmarkea/distilcamembert-base-sentiment\",\n",
    "    tokenizer=\"cmarkea/distilcamembert-base-sentiment\"\n",
    ")\n",
    "result = analyzer(\n",
    "    \"J'❤️ me promener en forêt même si ça me donne mal aux pieds.\",\n",
    "    return_all_scores=True\n",
    ")"
   ]
  },
  {
   "cell_type": "code",
   "execution_count": null,
   "outputs": [],
   "source": [
    "tweets_df[\"SENTIMENT\"] = tweets_df.Tweet.apply(predict)"
   ],
   "metadata": {
    "collapsed": false
   }
  }
 ],
 "metadata": {
  "kernelspec": {
   "display_name": "Python 3",
   "language": "python",
   "name": "python3"
  },
  "language_info": {
   "codemirror_mode": {
    "name": "ipython",
    "version": 2
   },
   "file_extension": ".py",
   "mimetype": "text/x-python",
   "name": "python",
   "nbconvert_exporter": "python",
   "pygments_lexer": "ipython2",
   "version": "2.7.6"
  }
 },
 "nbformat": 4,
 "nbformat_minor": 0
}
